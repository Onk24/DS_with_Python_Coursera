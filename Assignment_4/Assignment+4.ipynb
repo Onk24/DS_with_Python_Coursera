{
 "cells": [
  {
   "cell_type": "markdown",
   "metadata": {},
   "source": [
    "---\n",
    "\n",
    "_You are currently looking at **version 1.1** of this notebook. To download notebooks and datafiles, as well as get help on Jupyter notebooks in the Coursera platform, visit the [Jupyter Notebook FAQ](https://www.coursera.org/learn/python-data-analysis/resources/0dhYG) course resource._\n",
    "\n",
    "---"
   ]
  },
  {
   "cell_type": "code",
   "execution_count": 4,
   "metadata": {
    "collapsed": true
   },
   "outputs": [],
   "source": [
    "import pandas as pd\n",
    "import numpy as np\n",
    "from scipy.stats import ttest_ind"
   ]
  },
  {
   "cell_type": "markdown",
   "metadata": {},
   "source": [
    "# Assignment 4 - Hypothesis Testing\n",
    "This assignment requires more individual learning than previous assignments - you are encouraged to check out the [pandas documentation](http://pandas.pydata.org/pandas-docs/stable/) to find functions or methods you might not have used yet, or ask questions on [Stack Overflow](http://stackoverflow.com/) and tag them as pandas and python related. And of course, the discussion forums are open for interaction with your peers and the course staff.\n",
    "\n",
    "Definitions:\n",
    "* A _quarter_ is a specific three month period, Q1 is January through March, Q2 is April through June, Q3 is July through September, Q4 is October through December.\n",
    "* A _recession_ is defined as starting with two consecutive quarters of GDP decline, and ending with two consecutive quarters of GDP growth.\n",
    "* A _recession bottom_ is the quarter within a recession which had the lowest GDP.\n",
    "* A _university town_ is a city which has a high percentage of university students compared to the total population of the city.\n",
    "\n",
    "**Hypothesis**: University towns have their mean housing prices less effected by recessions. Run a t-test to compare the ratio of the mean price of houses in university towns the quarter before the recession starts compared to the recession bottom. (`price_ratio=quarter_before_recession/recession_bottom`)\n",
    "\n",
    "The following data files are available for this assignment:\n",
    "* From the [Zillow research data site](http://www.zillow.com/research/data/) there is housing data for the United States. In particular the datafile for [all homes at a city level](http://files.zillowstatic.com/research/public/City/City_Zhvi_AllHomes.csv), ```City_Zhvi_AllHomes.csv```, has median home sale prices at a fine grained level.\n",
    "* From the Wikipedia page on college towns is a list of [university towns in the United States](https://en.wikipedia.org/wiki/List_of_college_towns#College_towns_in_the_United_States) which has been copy and pasted into the file ```university_towns.txt```.\n",
    "* From Bureau of Economic Analysis, US Department of Commerce, the [GDP over time](http://www.bea.gov/national/index.htm#gdp) of the United States in current dollars (use the chained value in 2009 dollars), in quarterly intervals, in the file ```gdplev.xls```. For this assignment, only look at GDP data from the first quarter of 2000 onward.\n",
    "\n",
    "Each function in this assignment below is worth 10%, with the exception of ```run_ttest()```, which is worth 50%."
   ]
  },
  {
   "cell_type": "code",
   "execution_count": 27,
   "metadata": {
    "collapsed": true
   },
   "outputs": [],
   "source": [
    "states = {'OH': 'Ohio', 'KY': 'Kentucky', 'AS': 'American Samoa', 'NV': 'Nevada', 'WY': 'Wyoming', 'NA': 'National', 'AL': 'Alabama', 'MD': 'Maryland', 'AK': 'Alaska', 'UT': 'Utah', 'OR': 'Oregon', 'MT': 'Montana', 'IL': 'Illinois', 'TN': 'Tennessee', 'DC': 'District of Columbia', 'VT': 'Vermont', 'ID': 'Idaho', 'AR': 'Arkansas', 'ME': 'Maine', 'WA': 'Washington', 'HI': 'Hawaii', 'WI': 'Wisconsin', 'MI': 'Michigan', 'IN': 'Indiana', 'NJ': 'New Jersey', 'AZ': 'Arizona', 'GU': 'Guam', 'MS': 'Mississippi', 'PR': 'Puerto Rico', 'NC': 'North Carolina', 'TX': 'Texas', 'SD': 'South Dakota', 'MP': 'Northern Mariana Islands', 'IA': 'Iowa', 'MO': 'Missouri', 'CT': 'Connecticut', 'WV': 'West Virginia', 'SC': 'South Carolina', 'LA': 'Louisiana', 'KS': 'Kansas', 'NY': 'New York', 'NE': 'Nebraska', 'OK': 'Oklahoma', 'FL': 'Florida', 'CA': 'California', 'CO': 'Colorado', 'PA': 'Pennsylvania', 'DE': 'Delaware', 'NM': 'New Mexico', 'RI': 'Rhode Island', 'MN': 'Minnesota', 'VI': 'Virgin Islands', 'NH': 'New Hampshire', 'MA': 'Massachusetts', 'GA': 'Georgia', 'ND': 'North Dakota', 'VA': 'Virginia'}\n"
   ]
  },
  {
   "cell_type": "code",
   "execution_count": 48,
   "metadata": {
    "collapsed": true
   },
   "outputs": [],
   "source": [
    "def get_list_of_university_towns():\n",
    "    '''Returns a DataFrame of towns and the states they are in from the \n",
    "    university_towns.txt list. The format of the DataFrame should be:\n",
    "    DataFrame( [ [\"Michigan\", \"Ann Arbor\"], [\"Michigan\", \"Yipsilanti\"] ], \n",
    "    columns=[\"State\", \"RegionName\"]  )\n",
    "    \n",
    "    The following cleaning needs to be done:\n",
    "    1. For \"State\", removing characters from \"[\" to the end.\n",
    "    2. For \"RegionName\", when applicable, removing every character from \" (\" to the end.\n",
    "    3. Depending on how you read the data, you may need to remove newline character '\\n'. '''\n",
    "    data = []\n",
    "    state = None\n",
    "    state_towns = []\n",
    "    with open('university_towns.txt') as file:\n",
    "        for line in file:\n",
    "            thisLine = line[:-1]\n",
    "            if thisLine[-6:] == '[edit]':\n",
    "                state = thisLine[:-6]\n",
    "                continue\n",
    "            if '(' in line:\n",
    "                town = thisLine[:thisLine.index('(')-1]\n",
    "                state_towns.append([state,town])\n",
    "            else:\n",
    "                town = thisLine\n",
    "                state_towns.append([state,town])\n",
    "            data.append(thisLine)\n",
    "    df = pd.DataFrame(state_towns,columns = ['State','RegionName'])\n",
    "    return df"
   ]
  },
  {
   "cell_type": "code",
   "execution_count": 34,
   "metadata": {
    "collapsed": true
   },
   "outputs": [],
   "source": [
    "def get_recession_start():\n",
    "    '''Returns the year and quarter of the recession start time as a \n",
    "    string value in a format such as 2005q3'''\n",
    "    df2 = pd.read_excel('gdplev.xls', skiprows=6, header =1)\n",
    "    df = df2[df2['Unnamed: 4'].str.contains('^20')][['Unnamed: 4','Unnamed: 6']]\n",
    "    df = df.reset_index()\n",
    "    df = df.drop('index',axis=1)\n",
    "    df = df.rename(columns ={'Unnamed: 4':'Quarter', 'Unnamed: 6':'Chained value in 2009 dollars'})\n",
    "    i=0\n",
    "    series_start = ''\n",
    "    while (i+4 < df.shape[0]):\n",
    "        if((df['Chained value in 2009 dollars'].loc[i] > df['Chained value in 2009 dollars'].loc[i+1]) &\n",
    "   (df['Chained value in 2009 dollars'].loc[i+1] > df['Chained value in 2009 dollars'].loc[i+2])\n",
    "   & (df['Chained value in 2009 dollars'].loc[i+2] < df['Chained value in 2009 dollars'].loc[i+3])\n",
    "  & (df['Chained value in 2009 dollars'].loc[i+3] < df['Chained value in 2009 dollars'].loc[i+4])):\n",
    "            series = df.loc[i-1][0]\n",
    "            series_start = series_start + series\n",
    "        i = i+1\n",
    "    return series_start"
   ]
  },
  {
   "cell_type": "code",
   "execution_count": 35,
   "metadata": {},
   "outputs": [
    {
     "data": {
      "text/plain": [
       "'2008q3'"
      ]
     },
     "execution_count": 35,
     "metadata": {},
     "output_type": "execute_result"
    }
   ],
   "source": [
    "get_recession_start()"
   ]
  },
  {
   "cell_type": "code",
   "execution_count": 40,
   "metadata": {
    "collapsed": true
   },
   "outputs": [],
   "source": [
    "def get_recession_end():\n",
    "    '''Returns the year and quarter of the recession end time as a \n",
    "    string value in a format such as 2005q3'''\n",
    "    df2 = pd.read_excel('gdplev.xls', skiprows=6, header =1)\n",
    "    df = df2[df2['Unnamed: 4'].str.contains('^20')][['Unnamed: 4','Unnamed: 6']]\n",
    "    df = df.reset_index()\n",
    "    df = df.drop('index',axis=1)\n",
    "    df = df.rename(columns ={'Unnamed: 4':'Quarter', 'Unnamed: 6':'Chained value in 2009 dollars'})\n",
    "    i=0\n",
    "    series_end = ''\n",
    "    while (i+4 < df.shape[0]):\n",
    "        if((df['Chained value in 2009 dollars'].loc[i] > df['Chained value in 2009 dollars'].loc[i+1]) \n",
    "           & (df['Chained value in 2009 dollars'].loc[i+1] > df['Chained value in 2009 dollars'].loc[i+2]) \n",
    "           & (df['Chained value in 2009 dollars'].loc[i+2] < df['Chained value in 2009 dollars'].loc[i+3]) \n",
    "           & (df['Chained value in 2009 dollars'].loc[i+3] < df['Chained value in 2009 dollars'].loc[i+4])):\n",
    "            series = df.loc[i+4][0]\n",
    "            series_end = series_end+str(series)\n",
    "        i = i+1\n",
    "    return series_end"
   ]
  },
  {
   "cell_type": "code",
   "execution_count": 41,
   "metadata": {},
   "outputs": [
    {
     "data": {
      "text/plain": [
       "'2009q4'"
      ]
     },
     "execution_count": 41,
     "metadata": {},
     "output_type": "execute_result"
    }
   ],
   "source": [
    "get_recession_end()"
   ]
  },
  {
   "cell_type": "code",
   "execution_count": 10,
   "metadata": {
    "collapsed": true
   },
   "outputs": [],
   "source": [
    "def get_recession_bottom():\n",
    "    '''Returns the year and quarter of the recession bottom time as a \n",
    "    string value in a format such as 2005q3'''\n",
    "    df2 = pd.read_excel('gdplev.xls', skiprows=6, header =1)\n",
    "    df = df2[df2['Unnamed: 4'].str.contains('^20')][['Unnamed: 4','Unnamed: 6']]\n",
    "    df = df.reset_index()\n",
    "    df = df.drop('index',axis=1)\n",
    "    df = df.rename(columns ={'Unnamed: 4':'Quarter', 'Unnamed: 6':'Chained value in 2009 dollars'})\n",
    "    i=0\n",
    "    series_min = ''\n",
    "    while (i+4 < df.shape[0]):\n",
    "        if((df['Chained value in 2009 dollars'].loc[i] > df['Chained value in 2009 dollars'].loc[i+1]) &\n",
    "           (df['Chained value in 2009 dollars'].loc[i+1] > df['Chained value in 2009 dollars'].loc[i+2])\n",
    "           & (df['Chained value in 2009 dollars'].loc[i+2] < df['Chained value in 2009 dollars'].loc[i+3])\n",
    "           & (df['Chained value in 2009 dollars'].loc[i+3] < df['Chained value in 2009 dollars'].loc[i+4])):\n",
    "            series_min = series_min+str(df.loc[i+2][0])\n",
    "        i = i+1  \n",
    "    return series_min"
   ]
  },
  {
   "cell_type": "code",
   "execution_count": 11,
   "metadata": {},
   "outputs": [
    {
     "data": {
      "text/plain": [
       "'2009q2'"
      ]
     },
     "execution_count": 11,
     "metadata": {},
     "output_type": "execute_result"
    }
   ],
   "source": [
    "get_recession_bottom()"
   ]
  },
  {
   "cell_type": "code",
   "execution_count": 12,
   "metadata": {
    "collapsed": true
   },
   "outputs": [],
   "source": [
    "def col_names():\n",
    "    years = list(range(2000,2017))\n",
    "    year_quart = []\n",
    "    for i in years:\n",
    "        year_quart.append(str(i)+'q1')\n",
    "        year_quart.append(str(i)+'q2')\n",
    "        year_quart.append(str(i)+'q3')\n",
    "        year_quart.append(str(i)+'q4')\n",
    "    return year_quart"
   ]
  },
  {
   "cell_type": "code",
   "execution_count": 28,
   "metadata": {
    "collapsed": true
   },
   "outputs": [],
   "source": [
    "def convert_housing_data_to_quarters():\n",
    "    '''Converts the housing data to quarters and returns it as mean \n",
    "    values in a dataframe. This dataframe should be a dataframe with\n",
    "    columns for 2000q1 through 2016q3, and should have a multi-index\n",
    "    in the shape of [\"State\",\"RegionName\"].\n",
    "    \n",
    "    Note: Quarters are defined in the assignment description, they are\n",
    "    not arbitrary three month periods.\n",
    "    \n",
    "    The resulting dataframe should have 67 columns, and 10,730 rows.\n",
    "    '''\n",
    "    df2 = pd.read_csv(\"City_Zhvi_AllHomes.csv\")\n",
    "    df2['State'] = df2['State'].map(states)\n",
    "    df2.set_index(['State','RegionName'],inplace=True)\n",
    "    x = [list(df2.columns)[i*3+49:i*3+52] for i in range(0,67)]\n",
    "    column_names  = col_names()\n",
    "    for col,q in zip(column_names,x):\n",
    "        df2[col] = df2[q].mean(axis=1)\n",
    "    df3 = pd.DataFrame(df2.iloc[:,249:317])\n",
    "    return df3"
   ]
  },
  {
   "cell_type": "code",
   "execution_count": 14,
   "metadata": {
    "collapsed": true
   },
   "outputs": [],
   "source": [
    "from scipy import stats"
   ]
  },
  {
   "cell_type": "code",
   "execution_count": 15,
   "metadata": {
    "collapsed": true
   },
   "outputs": [],
   "source": [
    "def price_ratio(row):\n",
    "    return (row['2008q3'] - row['2009q2'])/row['2008q3']"
   ]
  },
  {
   "cell_type": "code",
   "execution_count": 18,
   "metadata": {
    "collapsed": true
   },
   "outputs": [],
   "source": [
    "xx = get_list_of_university_towns()['RegionName']\n",
    "xx = set(xx)"
   ]
  },
  {
   "cell_type": "code",
   "execution_count": 19,
   "metadata": {
    "collapsed": true
   },
   "outputs": [],
   "source": [
    "def is_uni_town(row):\n",
    "    if row['RegionName'] in xx:\n",
    "        return 1\n",
    "    else:\n",
    "        return 0"
   ]
  },
  {
   "cell_type": "code",
   "execution_count": 20,
   "metadata": {
    "collapsed": true
   },
   "outputs": [],
   "source": [
    "new_data= convert_housing_data_to_quarters()\n",
    "new_data = new_data.reset_index()\n",
    "new_data['up&down'] = new_data.apply(price_ratio,axis=1)\n",
    "new_data['is_uni'] = new_data.apply(is_uni_town,axis=1)"
   ]
  },
  {
   "cell_type": "code",
   "execution_count": 21,
   "metadata": {
    "collapsed": true
   },
   "outputs": [],
   "source": [
    "not_uni = new_data[new_data['is_uni']==0].loc[:,'up&down'].dropna()\n",
    "is_uni  = new_data[new_data['is_uni']==1].loc[:,'up&down'].dropna()"
   ]
  },
  {
   "cell_type": "code",
   "execution_count": 22,
   "metadata": {
    "collapsed": true
   },
   "outputs": [],
   "source": [
    "def better():\n",
    "    if not_uni.mean() < is_uni.mean():\n",
    "        return 'non-university town'\n",
    "    else:\n",
    "        return 'university town'"
   ]
  },
  {
   "cell_type": "code",
   "execution_count": 23,
   "metadata": {
    "collapsed": true
   },
   "outputs": [],
   "source": [
    "def run_ttest():\n",
    "    '''First creates new data showing the decline or growth of housing prices\n",
    "    between the recession start and the recession bottom. Then runs a ttest\n",
    "    comparing the university town values to the non-university towns values, \n",
    "    return whether the alternative hypothesis (that the two groups are the same)\n",
    "    is true or not as well as the p-value of the confidence. \n",
    "    \n",
    "    Return the tuple (different, p, better) where different=True if the t-test is\n",
    "    True at a p<0.01 (we reject the null hypothesis), or different=False if \n",
    "    otherwise (we cannot reject the null hypothesis). The variable p should\n",
    "    be equal to the exact p value returned from scipy.stats.ttest_ind(). The\n",
    "    value for better should be either \"university town\" or \"non-university town\"\n",
    "    depending on which has a lower mean price ratio (which is equivilent to a\n",
    "    reduced market loss).'''\n",
    "    p_val = list(stats.ttest_ind(not_uni, is_uni))[1]\n",
    "    result = (True,p_val,better())\n",
    "    return result"
   ]
  },
  {
   "cell_type": "code",
   "execution_count": 24,
   "metadata": {},
   "outputs": [
    {
     "data": {
      "text/plain": [
       "(True, 0.00036641601595526971, 'university town')"
      ]
     },
     "execution_count": 24,
     "metadata": {},
     "output_type": "execute_result"
    }
   ],
   "source": [
    "run_ttest()"
   ]
  },
  {
   "cell_type": "code",
   "execution_count": null,
   "metadata": {
    "collapsed": true
   },
   "outputs": [],
   "source": []
  }
 ],
 "metadata": {
  "coursera": {
   "course_slug": "python-data-analysis",
   "graded_item_id": "Il9Fx",
   "launcher_item_id": "TeDW0",
   "part_id": "WGlun"
  },
  "kernelspec": {
   "display_name": "Python 3",
   "language": "python",
   "name": "python3"
  },
  "language_info": {
   "codemirror_mode": {
    "name": "ipython",
    "version": 3
   },
   "file_extension": ".py",
   "mimetype": "text/x-python",
   "name": "python",
   "nbconvert_exporter": "python",
   "pygments_lexer": "ipython3",
   "version": "3.6.2"
  }
 },
 "nbformat": 4,
 "nbformat_minor": 1
}
